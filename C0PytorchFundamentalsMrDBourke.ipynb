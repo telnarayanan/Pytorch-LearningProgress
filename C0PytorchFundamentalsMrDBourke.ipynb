{
  "nbformat": 4,
  "nbformat_minor": 0,
  "metadata": {
    "colab": {
      "name": "C0PytorchFundamentalsMrDBourke.ipynb",
      "provenance": [],
      "authorship_tag": "ABX9TyN9C9NhVI7glUrcVys77dTX",
      "include_colab_link": true
    },
    "kernelspec": {
      "name": "python3",
      "display_name": "Python 3"
    },
    "language_info": {
      "name": "python"
    },
    "accelerator": "GPU",
    "gpuClass": "standard"
  },
  "cells": [
    {
      "cell_type": "markdown",
      "metadata": {
        "id": "view-in-github",
        "colab_type": "text"
      },
      "source": [
        "<a href=\"https://colab.research.google.com/github/telnarayanan/Pytorch-LearningProgress/blob/main/C0PytorchFundamentalsMrDBourke.ipynb\" target=\"_parent\"><img src=\"https://colab.research.google.com/assets/colab-badge.svg\" alt=\"Open In Colab\"/></a>"
      ]
    },
    {
      "cell_type": "code",
      "execution_count": null,
      "metadata": {
        "colab": {
          "base_uri": "https://localhost:8080/",
          "height": 35
        },
        "id": "R5gGJHw0vV9W",
        "outputId": "114791f7-c145-4068-9b39-66e17fb557f2"
      },
      "outputs": [
        {
          "output_type": "execute_result",
          "data": {
            "text/plain": [
              "'1.12.1+cu113'"
            ],
            "application/vnd.google.colaboratory.intrinsic+json": {
              "type": "string"
            }
          },
          "metadata": {},
          "execution_count": 1
        }
      ],
      "source": [
        "import torch\n",
        "torch.__version__"
      ]
    },
    {
      "cell_type": "markdown",
      "source": [
        "https://github.com/mrdbourke/pytorch-deep-learning/blob/main/00_pytorch_fundamentals.ipynb\n"
      ],
      "metadata": {
        "id": "a8aijT56wsgP"
      }
    },
    {
      "cell_type": "markdown",
      "source": [
        "#Introduction to Tensors\n",
        " - Represent data in a numerical way\n",
        " - Image can be represented as a tensor with shape [3,224,224], meaning [color_channels, height, width]\n",
        " - In tensor speak, the tensor would have three dimensions. [color_channels, height, width]\n",
        "\n",
        "#Scalar\n",
        " - Zero Dimension Tensor\n",
        " "
      ],
      "metadata": {
        "id": "9GOG-gYlwC-I"
      }
    },
    {
      "cell_type": "code",
      "source": [
        "scalar = torch.tensor(5)\n",
        "print(f\"scalar {scalar}\")\n",
        "print(f\"tensor dimension {scalar.ndim}\")\n",
        "print(f\"Get python number within a tensor: Scalar Item {scalar.item()}\")\n",
        "print(f\"Scalar shape: {scalar.shape}\")"
      ],
      "metadata": {
        "colab": {
          "base_uri": "https://localhost:8080/"
        },
        "id": "PfG7SLqDw7-O",
        "outputId": "a0ca1bdf-e708-475a-fce0-b0e7832ed014"
      },
      "execution_count": null,
      "outputs": [
        {
          "output_type": "stream",
          "name": "stdout",
          "text": [
            "scalar 5\n",
            "tensor dimension 0\n",
            "Get python number within a tensor: Scalar Item 5\n",
            "Scalar shape: torch.Size([])\n"
          ]
        }
      ]
    },
    {
      "cell_type": "markdown",
      "source": [
        "#Vector\n",
        " - Vector is a single dimension tensor, but may contain numbers.\n",
        " - Eg, vector[3,2] would be [bedrooms, bathrooms] , or you could have [3,2,2] to describe [bedrooms, bathrooms, car_parks] in your house.\n",
        " \n",
        "    "
      ],
      "metadata": {
        "id": "qoWuvBkvxgYE"
      }
    },
    {
      "cell_type": "code",
      "source": [
        "vector = torch.tensor([3,2])\n",
        "print(f\"Vector: {vector}\")\n",
        "print(f\"Vector Dimension: {vector.ndim}\")\n",
        "print(f\"Vector Shape: {vector.shape}\")"
      ],
      "metadata": {
        "colab": {
          "base_uri": "https://localhost:8080/"
        },
        "id": "hfpxNhYdyDXt",
        "outputId": "68d66161-30b1-4e82-ebea-471e15e3018d"
      },
      "execution_count": null,
      "outputs": [
        {
          "output_type": "stream",
          "name": "stdout",
          "text": [
            "Vector: tensor([3, 2])\n",
            "Vector Dimension: 1\n",
            "Vector Shape: torch.Size([2])\n"
          ]
        }
      ]
    },
    {
      "cell_type": "markdown",
      "source": [
        "# Matrix\n",
        " - Has two dimensions\n",
        " - As flexible as vectors, except that they've got extra dimension"
      ],
      "metadata": {
        "id": "4iho43X00GMe"
      }
    },
    {
      "cell_type": "code",
      "source": [
        "matrix = torch.tensor([[4,5],\n",
        "                      [5,7]])\n",
        "print(f\"Matrix: {matrix}\")\n",
        "print(f\"Matrix Dimension: {matrix.ndim}\")\n",
        "print(f\"Matrix Shape: {matrix.shape}\")"
      ],
      "metadata": {
        "colab": {
          "base_uri": "https://localhost:8080/"
        },
        "id": "SwvxqE1B0Rc4",
        "outputId": "20e900c2-3e0e-4743-e290-13155cc0a4ca"
      },
      "execution_count": null,
      "outputs": [
        {
          "output_type": "stream",
          "name": "stdout",
          "text": [
            "Matrix: tensor([[4, 5],\n",
            "        [5, 7]])\n",
            "Matrix Dimension: 2\n",
            "Matrix Shape: torch.Size([2, 2])\n"
          ]
        }
      ]
    },
    {
      "cell_type": "markdown",
      "source": [
        "The above matrix's size is 2x2, because Matrix is two elements deep and two elements wide."
      ],
      "metadata": {
        "id": "99fdjLw-07Ap"
      }
    },
    {
      "cell_type": "markdown",
      "source": [
        "# Tensor\n"
      ],
      "metadata": {
        "id": "-6x7QT6b1Khy"
      }
    },
    {
      "cell_type": "code",
      "source": [
        "TENSOR = torch.tensor([[[1,2,3],[3,6,9],[7,8,9]]])\n",
        "print(f\"TENSOR : {TENSOR}\")\n",
        "print(f\"TENSOR Dimension: {TENSOR.ndim}\")\n",
        "print(f\"TENSOR shape: {TENSOR.shape}\")\n"
      ],
      "metadata": {
        "colab": {
          "base_uri": "https://localhost:8080/"
        },
        "id": "7rsEMMo31VGs",
        "outputId": "2b2719b0-516e-4d66-8bca-f9608a7b6b41"
      },
      "execution_count": null,
      "outputs": [
        {
          "output_type": "stream",
          "name": "stdout",
          "text": [
            "TENSOR : tensor([[[1, 2, 3],\n",
            "         [3, 6, 9],\n",
            "         [7, 8, 9]]])\n",
            "TENSOR Dimension: 3\n",
            "TENSOR shape: torch.Size([1, 3, 3])\n"
          ]
        }
      ]
    },
    {
      "cell_type": "markdown",
      "source": [
        "torch.size is [1,3,3], which means, that there's one dimension of 3 by 3."
      ],
      "metadata": {
        "id": "NCrpaout2Hhx"
      }
    },
    {
      "cell_type": "markdown",
      "source": [
        "# Random Tensors\n",
        "\n",
        "- In Machine Learning models, it is rare to write out the tensors by hand. \n",
        "- We usually create a random tensor, and adjust these random tensors as it works through the data\n",
        "- Here is the Tensor workflow\n",
        "  - Start with Random Numbers\n",
        "  - Look at data\n",
        "  - Update Random numbers\n",
        "  - Look at data\n",
        "  - Update Random numbers, and so on\n",
        "\n",
        "- torch.rand(), with size parameter"
      ],
      "metadata": {
        "id": "mkPWYmkD2mFs"
      }
    },
    {
      "cell_type": "code",
      "source": [
        "random_tensor = torch.rand(size=(2,3,3))\n",
        "print(f\"Random Tensor: {random_tensor}\")\n",
        "print(f\"Random Tensor datatype: {random_tensor.dtype}\")\n",
        "print(f\"Random Tensor dimension: {random_tensor.ndim}\")\n",
        "print(f\"Random Tensor shape: {random_tensor.shape}\")"
      ],
      "metadata": {
        "colab": {
          "base_uri": "https://localhost:8080/"
        },
        "id": "oTpnvOau3NhZ",
        "outputId": "1fe45c5d-9b38-43e5-b40b-a93a6b0d3a6e"
      },
      "execution_count": null,
      "outputs": [
        {
          "output_type": "stream",
          "name": "stdout",
          "text": [
            "Random Tensor: tensor([[[0.2898, 0.3346, 0.6801],\n",
            "         [0.5086, 0.2493, 0.1787],\n",
            "         [0.0102, 0.6714, 0.5226]],\n",
            "\n",
            "        [[0.7851, 0.0822, 0.1336],\n",
            "         [0.8335, 0.9754, 0.8971],\n",
            "         [0.8863, 0.3669, 0.5064]]])\n",
            "Random Tensor datatype: torch.float32\n",
            "Random Tensor dimension: 3\n",
            "Random Tensor shape: torch.Size([2, 3, 3])\n"
          ]
        }
      ]
    },
    {
      "cell_type": "markdown",
      "source": [
        "- Eg, random tensor of a common image shape of [3,224,224], [color_channels, height, width]"
      ],
      "metadata": {
        "id": "oHsQxdVY4Bev"
      }
    },
    {
      "cell_type": "code",
      "source": [
        "random_image_size_tensor = torch.rand(size=(3,224,224))\n",
        "print(f\"Image tensor shape: {random_image_size_tensor.shape}\")\n",
        "print(f\"Image tensor dimension: {random_image_size_tensor.ndim}\")"
      ],
      "metadata": {
        "colab": {
          "base_uri": "https://localhost:8080/"
        },
        "id": "QW6PKHfg4iA3",
        "outputId": "6d2f3bbc-e53b-47cf-c580-f85897c45be1"
      },
      "execution_count": null,
      "outputs": [
        {
          "output_type": "stream",
          "name": "stdout",
          "text": [
            "Image tensor shape: torch.Size([3, 224, 224])\n",
            "Image tensor dimension: 3\n"
          ]
        }
      ]
    },
    {
      "cell_type": "code",
      "source": [
        "print(f\"Random image tensor printed: {random_image_size_tensor}\" )"
      ],
      "metadata": {
        "colab": {
          "base_uri": "https://localhost:8080/"
        },
        "id": "J2B7YUjM48K9",
        "outputId": "db41c99d-7546-4602-e1d1-9ada796546ee"
      },
      "execution_count": null,
      "outputs": [
        {
          "output_type": "stream",
          "name": "stdout",
          "text": [
            "Random image tensor printed: tensor([[[7.1623e-02, 4.6310e-01, 6.5669e-01,  ..., 9.2430e-01,\n",
            "          5.2114e-01, 8.6064e-01],\n",
            "         [2.5475e-01, 1.2774e-01, 9.0934e-01,  ..., 9.8192e-01,\n",
            "          2.5267e-01, 5.2331e-02],\n",
            "         [9.1442e-01, 6.3809e-01, 7.9299e-01,  ..., 4.8927e-01,\n",
            "          6.5216e-03, 1.7785e-01],\n",
            "         ...,\n",
            "         [2.4679e-01, 3.8188e-01, 1.3540e-02,  ..., 6.2077e-01,\n",
            "          9.4418e-01, 6.1167e-01],\n",
            "         [7.4730e-02, 2.3696e-01, 1.2463e-01,  ..., 1.8102e-01,\n",
            "          3.9440e-01, 6.5327e-01],\n",
            "         [4.9474e-01, 8.9180e-01, 6.4596e-01,  ..., 5.4779e-01,\n",
            "          5.1792e-01, 6.1151e-01]],\n",
            "\n",
            "        [[2.3179e-01, 7.1512e-02, 3.1849e-01,  ..., 5.5552e-02,\n",
            "          7.8349e-01, 4.9540e-01],\n",
            "         [5.6102e-01, 5.2438e-02, 9.9410e-01,  ..., 4.5864e-01,\n",
            "          7.7197e-01, 8.1571e-01],\n",
            "         [4.2984e-01, 1.7990e-01, 7.2067e-01,  ..., 2.1139e-01,\n",
            "          6.3930e-01, 9.2122e-02],\n",
            "         ...,\n",
            "         [2.8593e-02, 7.5842e-01, 1.3184e-01,  ..., 8.2777e-01,\n",
            "          8.2058e-01, 5.5230e-01],\n",
            "         [7.0743e-01, 6.0903e-01, 5.3558e-01,  ..., 2.8577e-01,\n",
            "          3.1693e-01, 6.2988e-01],\n",
            "         [5.5517e-01, 1.9338e-01, 3.0212e-01,  ..., 4.9728e-01,\n",
            "          6.6302e-01, 8.4648e-01]],\n",
            "\n",
            "        [[1.1309e-01, 6.9342e-01, 3.6830e-01,  ..., 3.7753e-01,\n",
            "          5.3330e-01, 3.9447e-02],\n",
            "         [4.3968e-01, 9.4725e-01, 1.4787e-01,  ..., 6.8897e-02,\n",
            "          5.1373e-01, 8.3479e-01],\n",
            "         [6.3472e-01, 3.1907e-01, 9.1927e-01,  ..., 9.7249e-03,\n",
            "          5.1764e-01, 1.5331e-01],\n",
            "         ...,\n",
            "         [1.0286e-01, 6.6247e-01, 7.4929e-04,  ..., 1.7070e-01,\n",
            "          1.8307e-01, 6.4305e-01],\n",
            "         [3.4947e-01, 1.4890e-01, 9.6030e-02,  ..., 1.1586e-01,\n",
            "          2.8140e-02, 2.9954e-01],\n",
            "         [9.4607e-01, 1.2914e-01, 9.5262e-01,  ..., 3.8411e-01,\n",
            "          9.8039e-01, 8.6534e-01]]])\n"
          ]
        }
      ]
    },
    {
      "cell_type": "markdown",
      "source": [
        "- Zeroes and Ones can be initialized as torch.zeros(size), and torch.ones(size)"
      ],
      "metadata": {
        "id": "CghcM74w5KtV"
      }
    },
    {
      "cell_type": "markdown",
      "source": [
        "# Tensor Operations\n",
        " - Addition\n",
        " - Subract\n",
        " - Elementwise Multiply\n",
        " - Divide\n",
        " - Matrix Multiply (MatMul)"
      ],
      "metadata": {
        "id": "R3eYkKGN572L"
      }
    },
    {
      "cell_type": "markdown",
      "source": [
        "# Matrix Multiplication\n",
        " - Most common Operations in ML and Dl algorithms\n",
        " - torch.matmul\n",
        " - Denoted by '@'\n",
        " - Two Rules\n",
        "  - Inner Dimensions must match\n",
        "  - Resulting Matrix has the shape of outer dimensions\n",
        "   - Eg(2,3)@(3,2) -> (2,2) shape"
      ],
      "metadata": {
        "id": "vK_wyss46cMc"
      }
    },
    {
      "cell_type": "code",
      "source": [
        "import torch\n",
        "tensor = torch.tensor([1,2,3])\n",
        "tensor.shape"
      ],
      "metadata": {
        "colab": {
          "base_uri": "https://localhost:8080/"
        },
        "id": "zP0XRDZp62OI",
        "outputId": "b6410ea2-ab4a-4081-d761-820bd79beba4"
      },
      "execution_count": null,
      "outputs": [
        {
          "output_type": "execute_result",
          "data": {
            "text/plain": [
              "torch.Size([3])"
            ]
          },
          "metadata": {},
          "execution_count": 9
        }
      ]
    },
    {
      "cell_type": "code",
      "source": [
        "# Elementwise Multiply\n",
        "print(f\"Elementwise Multiplied -> Tensor * Tensor: {tensor*tensor}\")\n",
        "\n",
        "# Matmul\n",
        "print(f\"Matrix multiply -> Tensor @ Tensor {torch.matmul(tensor,tensor)}\")"
      ],
      "metadata": {
        "colab": {
          "base_uri": "https://localhost:8080/"
        },
        "id": "lflhmDyD6_W_",
        "outputId": "7621c4dc-7164-42c5-bb6f-1e7f1ea7a65d"
      },
      "execution_count": null,
      "outputs": [
        {
          "output_type": "stream",
          "name": "stdout",
          "text": [
            "Elementwise Multiplied -> Tensor * Tensor: tensor([1, 4, 9])\n",
            "Matrix multiply -> Tensor @ Tensor 14\n"
          ]
        }
      ]
    },
    {
      "cell_type": "code",
      "source": [
        "%%time\n",
        "# Matrix multiplication by hand \n",
        "# (avoid doing operations with for loops at all cost, they are computationally expensive)\n",
        "value = 0\n",
        "for i in range(len(tensor)):\n",
        "  value += tensor[i] * tensor[i]\n",
        "value"
      ],
      "metadata": {
        "colab": {
          "base_uri": "https://localhost:8080/"
        },
        "id": "TAqlTmL88HIJ",
        "outputId": "c0fc4044-1975-4232-c012-5d925a4132da"
      },
      "execution_count": null,
      "outputs": [
        {
          "output_type": "stream",
          "name": "stdout",
          "text": [
            "CPU times: user 3.24 ms, sys: 43 µs, total: 3.28 ms\n",
            "Wall time: 5.07 ms\n"
          ]
        },
        {
          "output_type": "execute_result",
          "data": {
            "text/plain": [
              "tensor(14)"
            ]
          },
          "metadata": {},
          "execution_count": 11
        }
      ]
    },
    {
      "cell_type": "code",
      "source": [
        "%%time\n",
        "torch.matmul(tensor, tensor)"
      ],
      "metadata": {
        "colab": {
          "base_uri": "https://localhost:8080/"
        },
        "id": "deLrL1zo8PAc",
        "outputId": "a5395b07-4644-4fa6-c67f-47e2ddb1b687"
      },
      "execution_count": null,
      "outputs": [
        {
          "output_type": "stream",
          "name": "stdout",
          "text": [
            "CPU times: user 29 µs, sys: 6 µs, total: 35 µs\n",
            "Wall time: 40.3 µs\n"
          ]
        },
        {
          "output_type": "execute_result",
          "data": {
            "text/plain": [
              "tensor(14)"
            ]
          },
          "metadata": {},
          "execution_count": 12
        }
      ]
    },
    {
      "cell_type": "markdown",
      "source": [
        "- Some common errors in DL would arise from multiplying two tensors of different dimensions. Here we can try transposing with tensor.transpose (.T) and then multiplying\n",
        "- Torch.mm is the shortcut for torch.matmul\n",
        "- Also referred as the dot product of two matrices"
      ],
      "metadata": {
        "id": "P1PnOcqq8dq7"
      }
    },
    {
      "cell_type": "markdown",
      "source": [
        "- Min, Max, Mean, Sum, Positional Min/Max\n",
        "- Reshaping/Stacking/Squeezing/UnSqueezing\n",
        "- Indexing (selecting data from tensors\n",
        "- Torch.arange; Torch.reshape"
      ],
      "metadata": {
        "id": "PV-QDaaPAhxa"
      }
    },
    {
      "cell_type": "markdown",
      "source": [
        "# Reproducibility (take out the random from random)\n",
        "\n",
        "- Neural Networks start with Random numbers to describe patterns in data, and try to improve those random numbers using Tensor operations.\n",
        " - Start with Random Numbers\n",
        " - Do Tensor Operations\n",
        " - Try to make it better"
      ],
      "metadata": {
        "id": "s5pgm6AjC3Cx"
      }
    },
    {
      "cell_type": "code",
      "source": [
        "import torch\n",
        "\n",
        "# create two random tensors\n",
        "\n",
        "tensorA = torch.rand(4,5)\n",
        "tensorB = torch.rand(4,5)\n",
        "\n",
        "print(f\"Tensor A:\\n {tensorA}\")\n",
        "print(f\"Tensor B:\\n {tensorB}\")\n",
        "\n",
        "print(f\"Is Tensor A equal to Tensor B\")\n",
        "tensorA == tensorB"
      ],
      "metadata": {
        "colab": {
          "base_uri": "https://localhost:8080/"
        },
        "id": "J1uLKQJ-DgwW",
        "outputId": "e26b89b1-07b7-4308-b767-aea928c113bf"
      },
      "execution_count": null,
      "outputs": [
        {
          "output_type": "stream",
          "name": "stdout",
          "text": [
            "Tensor A:\n",
            " tensor([[0.4713, 0.2941, 0.3344, 0.0192, 0.6322],\n",
            "        [0.0837, 0.2601, 0.6869, 0.4588, 0.5161],\n",
            "        [0.2435, 0.7023, 0.3166, 0.9334, 0.7604],\n",
            "        [0.0105, 0.0828, 0.4139, 0.0679, 0.9657]])\n",
            "Tensor B:\n",
            " tensor([[0.8381, 0.5905, 0.4286, 0.9408, 0.3942],\n",
            "        [0.5066, 0.1602, 0.2566, 0.6934, 0.2470],\n",
            "        [0.7346, 0.0765, 0.1799, 0.9898, 0.6808],\n",
            "        [0.3044, 0.9839, 0.4747, 0.1323, 0.6796]])\n",
            "Is Tensor A equal to Tensor B\n"
          ]
        },
        {
          "output_type": "execute_result",
          "data": {
            "text/plain": [
              "tensor([[False, False, False, False, False],\n",
              "        [False, False, False, False, False],\n",
              "        [False, False, False, False, False],\n",
              "        [False, False, False, False, False]])"
            ]
          },
          "metadata": {},
          "execution_count": 13
        }
      ]
    },
    {
      "cell_type": "code",
      "source": [
        "import torch\n",
        "import random\n",
        "\n",
        "# # Set the random seed\n",
        "RANDOM_SEED=42 # try changing this to different values and see what happens to the numbers below\n",
        "torch.random.manual_seed(seed=RANDOM_SEED) \n",
        "random_tensor_C = torch.rand(3, 4)\n",
        "\n",
        "# Have to reset the seed every time a new rand() is called \n",
        "# Without this, tensor_D would be different to tensor_C \n",
        "torch.random.manual_seed(seed=RANDOM_SEED) # try commenting this line out and seeing what happens\n",
        "random_tensor_D = torch.rand(3, 4)\n",
        "\n",
        "print(f\"Tensor C:\\n{random_tensor_C}\\n\")\n",
        "print(f\"Tensor D:\\n{random_tensor_D}\\n\")\n",
        "print(f\"Does Tensor C equal Tensor D? (anywhere)\")\n",
        "random_tensor_C == random_tensor_D"
      ],
      "metadata": {
        "colab": {
          "base_uri": "https://localhost:8080/"
        },
        "id": "RMXgdbCSEX0W",
        "outputId": "67ac6430-bee5-4f70-b71f-0f934aa1cbab"
      },
      "execution_count": null,
      "outputs": [
        {
          "output_type": "stream",
          "name": "stdout",
          "text": [
            "Tensor C:\n",
            "tensor([[0.8823, 0.9150, 0.3829, 0.9593],\n",
            "        [0.3904, 0.6009, 0.2566, 0.7936],\n",
            "        [0.9408, 0.1332, 0.9346, 0.5936]])\n",
            "\n",
            "Tensor D:\n",
            "tensor([[0.8823, 0.9150, 0.3829, 0.9593],\n",
            "        [0.3904, 0.6009, 0.2566, 0.7936],\n",
            "        [0.9408, 0.1332, 0.9346, 0.5936]])\n",
            "\n",
            "Does Tensor C equal Tensor D? (anywhere)\n"
          ]
        },
        {
          "output_type": "execute_result",
          "data": {
            "text/plain": [
              "tensor([[True, True, True, True],\n",
              "        [True, True, True, True],\n",
              "        [True, True, True, True]])"
            ]
          },
          "metadata": {},
          "execution_count": 14
        }
      ]
    },
    {
      "cell_type": "code",
      "source": [
        "!nvidia-smi"
      ],
      "metadata": {
        "colab": {
          "base_uri": "https://localhost:8080/"
        },
        "id": "HAppquGmEm7T",
        "outputId": "8e31e919-0b53-4775-dde7-b0e4c8f76430"
      },
      "execution_count": null,
      "outputs": [
        {
          "output_type": "stream",
          "name": "stdout",
          "text": [
            "Sun Aug 21 11:05:15 2022       \n",
            "+-----------------------------------------------------------------------------+\n",
            "| NVIDIA-SMI 460.32.03    Driver Version: 460.32.03    CUDA Version: 11.2     |\n",
            "|-------------------------------+----------------------+----------------------+\n",
            "| GPU  Name        Persistence-M| Bus-Id        Disp.A | Volatile Uncorr. ECC |\n",
            "| Fan  Temp  Perf  Pwr:Usage/Cap|         Memory-Usage | GPU-Util  Compute M. |\n",
            "|                               |                      |               MIG M. |\n",
            "|===============================+======================+======================|\n",
            "|   0  Tesla T4            Off  | 00000000:00:04.0 Off |                    0 |\n",
            "| N/A   35C    P8     9W /  70W |      0MiB / 15109MiB |      0%      Default |\n",
            "|                               |                      |                  N/A |\n",
            "+-------------------------------+----------------------+----------------------+\n",
            "                                                                               \n",
            "+-----------------------------------------------------------------------------+\n",
            "| Processes:                                                                  |\n",
            "|  GPU   GI   CI        PID   Type   Process name                  GPU Memory |\n",
            "|        ID   ID                                                   Usage      |\n",
            "|=============================================================================|\n",
            "|  No running processes found                                                 |\n",
            "+-----------------------------------------------------------------------------+\n"
          ]
        }
      ]
    },
    {
      "cell_type": "code",
      "source": [
        "# Check for GPU\n",
        "import torch\n",
        "torch.cuda.is_available()"
      ],
      "metadata": {
        "colab": {
          "base_uri": "https://localhost:8080/"
        },
        "id": "gGM46CfVEtVa",
        "outputId": "7ad3a676-f157-4bac-c7f9-a8bc0465821a"
      },
      "execution_count": null,
      "outputs": [
        {
          "output_type": "execute_result",
          "data": {
            "text/plain": [
              "True"
            ]
          },
          "metadata": {},
          "execution_count": 16
        }
      ]
    },
    {
      "cell_type": "code",
      "source": [
        "# Set device type\n",
        "device = \"cuda\" if torch.cuda.is_available() else \"cpu\"\n",
        "device"
      ],
      "metadata": {
        "colab": {
          "base_uri": "https://localhost:8080/",
          "height": 35
        },
        "id": "YxKOKlObEvcA",
        "outputId": "849e979b-b1dc-405f-d38c-8c58cd3a09db"
      },
      "execution_count": null,
      "outputs": [
        {
          "output_type": "execute_result",
          "data": {
            "text/plain": [
              "'cuda'"
            ],
            "application/vnd.google.colaboratory.intrinsic+json": {
              "type": "string"
            }
          },
          "metadata": {},
          "execution_count": 17
        }
      ]
    },
    {
      "cell_type": "code",
      "source": [
        "# Create tensor (default on CPU)\n",
        "tensor = torch.tensor([1, 2, 3])\n",
        "\n",
        "# Tensor not on GPU\n",
        "print(tensor, tensor.device)\n",
        "\n",
        "# Move tensor to GPU (if available)\n",
        "tensor_on_gpu = tensor.to(device)\n",
        "tensor_on_gpu"
      ],
      "metadata": {
        "colab": {
          "base_uri": "https://localhost:8080/"
        },
        "id": "jdO66RGAFY8Y",
        "outputId": "1dea8935-96b4-4846-e073-5d8834663fc7"
      },
      "execution_count": null,
      "outputs": [
        {
          "output_type": "stream",
          "name": "stdout",
          "text": [
            "tensor([1, 2, 3]) cpu\n"
          ]
        },
        {
          "output_type": "execute_result",
          "data": {
            "text/plain": [
              "tensor([1, 2, 3], device='cuda:0')"
            ]
          },
          "metadata": {},
          "execution_count": 18
        }
      ]
    },
    {
      "cell_type": "code",
      "source": [
        "tensor_back_on_cpu = tensor_on_gpu.cpu().numpy()\n",
        "tensor_back_on_cpu"
      ],
      "metadata": {
        "colab": {
          "base_uri": "https://localhost:8080/"
        },
        "id": "LFG6YC-kFdEi",
        "outputId": "ec3d1af3-295e-48ad-f04d-59c19c48a8a5"
      },
      "execution_count": null,
      "outputs": [
        {
          "output_type": "execute_result",
          "data": {
            "text/plain": [
              "array([1, 2, 3])"
            ]
          },
          "metadata": {},
          "execution_count": 19
        }
      ]
    },
    {
      "cell_type": "code",
      "source": [
        ""
      ],
      "metadata": {
        "id": "QpmZXsG-FkBM"
      },
      "execution_count": null,
      "outputs": []
    }
  ]
}