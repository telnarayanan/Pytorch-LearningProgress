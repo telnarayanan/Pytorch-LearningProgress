{
  "nbformat": 4,
  "nbformat_minor": 0,
  "metadata": {
    "colab": {
      "name": "C0PytorchFundamentalsMrDBourke.ipynb",
      "provenance": [],
      "authorship_tag": "ABX9TyPcv2sVnxwse+X4H2/iDn7f",
      "include_colab_link": true
    },
    "kernelspec": {
      "name": "python3",
      "display_name": "Python 3"
    },
    "language_info": {
      "name": "python"
    }
  },
  "cells": [
    {
      "cell_type": "markdown",
      "metadata": {
        "id": "view-in-github",
        "colab_type": "text"
      },
      "source": [
        "<a href=\"https://colab.research.google.com/github/telnarayanan/Pytorch-LearningProgress/blob/main/C0PytorchFundamentalsMrDBourke.ipynb\" target=\"_parent\"><img src=\"https://colab.research.google.com/assets/colab-badge.svg\" alt=\"Open In Colab\"/></a>"
      ]
    },
    {
      "cell_type": "code",
      "execution_count": 1,
      "metadata": {
        "colab": {
          "base_uri": "https://localhost:8080/",
          "height": 35
        },
        "id": "R5gGJHw0vV9W",
        "outputId": "55b61d4e-7ba6-4930-f209-356b848c4f1e"
      },
      "outputs": [
        {
          "output_type": "execute_result",
          "data": {
            "text/plain": [
              "'1.12.1+cu113'"
            ],
            "application/vnd.google.colaboratory.intrinsic+json": {
              "type": "string"
            }
          },
          "metadata": {},
          "execution_count": 1
        }
      ],
      "source": [
        "import torch\n",
        "torch.__version__"
      ]
    },
    {
      "cell_type": "markdown",
      "source": [
        "https://github.com/mrdbourke/pytorch-deep-learning/blob/main/00_pytorch_fundamentals.ipynb\n"
      ],
      "metadata": {
        "id": "a8aijT56wsgP"
      }
    },
    {
      "cell_type": "markdown",
      "source": [
        "#Introduction to Tensors\n",
        " - Represent data in a numerical way\n",
        " - Image can be represented as a tensor with shape [3,224,224], meaning [color_channels, height, width]\n",
        " - In tensor speak, the tensor would have three dimensions. [color_channels, height, width]\n",
        "\n",
        "#Scalar\n",
        " - Zero Dimension Tensor\n",
        " "
      ],
      "metadata": {
        "id": "9GOG-gYlwC-I"
      }
    },
    {
      "cell_type": "code",
      "source": [
        "scalar = torch.tensor(5)\n",
        "print(f\"scalar {scalar}\")\n",
        "print(f\"tensor dimension {scalar.ndim}\")\n",
        "print(f\"Get python number within a tensor: Scalar Item {scalar.item()}\")\n",
        "print(f\"Scalar shape: {scalar.shape}\")"
      ],
      "metadata": {
        "colab": {
          "base_uri": "https://localhost:8080/"
        },
        "id": "PfG7SLqDw7-O",
        "outputId": "3857ab95-d830-4ac5-d275-f569b18bf2fd"
      },
      "execution_count": 11,
      "outputs": [
        {
          "output_type": "stream",
          "name": "stdout",
          "text": [
            "scalar 5\n",
            "tensor dimension 0\n",
            "Get python number within a tensor: Scalar Item 5\n",
            "Scalar shape: torch.Size([])\n"
          ]
        }
      ]
    },
    {
      "cell_type": "markdown",
      "source": [
        "#Vector\n",
        " - Vector is a single dimension tensor, but may contain numbers.\n",
        " - Eg, vector[3,2] would be [bedrooms, bathrooms] , or you could have [3,2,2] to describe [bedrooms, bathrooms, car_parks] in your house.\n",
        " \n",
        "    "
      ],
      "metadata": {
        "id": "qoWuvBkvxgYE"
      }
    },
    {
      "cell_type": "code",
      "source": [
        "vector = torch.tensor([3,2])\n",
        "print(f\"Vector: {vector}\")\n",
        "print(f\"Vector Dimension: {vector.ndim}\")\n",
        "print(f\"Vector Shape: {vector.shape}\")"
      ],
      "metadata": {
        "colab": {
          "base_uri": "https://localhost:8080/"
        },
        "id": "hfpxNhYdyDXt",
        "outputId": "eae8cd6d-0c0b-4429-e6a2-d3c92c98c5ca"
      },
      "execution_count": 14,
      "outputs": [
        {
          "output_type": "stream",
          "name": "stdout",
          "text": [
            "Vector: tensor([3, 2])\n",
            "Vector Dimension: 1\n",
            "Vector Shape: torch.Size([2])\n"
          ]
        }
      ]
    },
    {
      "cell_type": "markdown",
      "source": [
        "# Matrix\n",
        " - Has two dimensions\n",
        " - As flexible as vectors, except that they've got extra dimension"
      ],
      "metadata": {
        "id": "4iho43X00GMe"
      }
    },
    {
      "cell_type": "code",
      "source": [
        "matrix = torch.tensor([[4,5],\n",
        "                      [5,7]])\n",
        "print(f\"Matrix: {matrix}\")\n",
        "print(f\"Matrix Dimension: {matrix.ndim}\")\n",
        "print(f\"Matrix Shape: {matrix.shape}\")"
      ],
      "metadata": {
        "colab": {
          "base_uri": "https://localhost:8080/"
        },
        "id": "SwvxqE1B0Rc4",
        "outputId": "931911c2-18d9-4ab1-d575-947404297320"
      },
      "execution_count": 17,
      "outputs": [
        {
          "output_type": "stream",
          "name": "stdout",
          "text": [
            "Matrix: tensor([[4, 5],\n",
            "        [5, 7]])\n",
            "Matrix Dimension: 2\n",
            "Matrix Shape: torch.Size([2, 2])\n"
          ]
        }
      ]
    },
    {
      "cell_type": "markdown",
      "source": [
        "The above matrix's size is 2x2, because Matrix is two elements deep and two elements wide."
      ],
      "metadata": {
        "id": "99fdjLw-07Ap"
      }
    },
    {
      "cell_type": "markdown",
      "source": [
        "# Tensor\n"
      ],
      "metadata": {
        "id": "-6x7QT6b1Khy"
      }
    },
    {
      "cell_type": "code",
      "source": [
        "TENSOR = torch.tensor([[[1,2,3],[3,6,9],[7,8,9]]])\n",
        "print(f\"TENSOR : {TENSOR}\")\n",
        "print(f\"TENSOR Dimension: {TENSOR.ndim}\")\n",
        "print(f\"TENSOR shape: {TENSOR.shape}\")\n"
      ],
      "metadata": {
        "colab": {
          "base_uri": "https://localhost:8080/"
        },
        "id": "7rsEMMo31VGs",
        "outputId": "24c3d379-cd71-45d6-9fd9-12b68d4fcf10"
      },
      "execution_count": 18,
      "outputs": [
        {
          "output_type": "stream",
          "name": "stdout",
          "text": [
            "TENSOR : tensor([[[1, 2, 3],\n",
            "         [3, 6, 9],\n",
            "         [7, 8, 9]]])\n",
            "TENSOR Dimension: 3\n",
            "TENSOR shape: torch.Size([1, 3, 3])\n"
          ]
        }
      ]
    },
    {
      "cell_type": "markdown",
      "source": [
        "torch.size is [1,3,3], which means, that there's one dimension of 3 by 3."
      ],
      "metadata": {
        "id": "NCrpaout2Hhx"
      }
    },
    {
      "cell_type": "markdown",
      "source": [
        "# Random Tensors\n",
        "\n",
        "- In Machine Learning models, it is rare to write out the tensors by hand. \n",
        "- We usually create a random tensor, and adjust these random tensors as it works through the data\n",
        "- Here is the Tensor workflow\n",
        "  - Start with Random Numbers\n",
        "  - Look at data\n",
        "  - Update Random numbers\n",
        "  - Look at data\n",
        "  - Update Random numbers, and so on\n",
        "\n",
        "- torch.rand(), with size parameter"
      ],
      "metadata": {
        "id": "mkPWYmkD2mFs"
      }
    },
    {
      "cell_type": "code",
      "source": [
        "random_tensor = torch.rand(size=(2,3,3))\n",
        "print(f\"Random Tensor: {random_tensor}\")\n",
        "print(f\"Random Tensor datatype: {random_tensor.dtype}\")\n",
        "print(f\"Random Tensor dimension: {random_tensor.ndim}\")\n",
        "print(f\"Random Tensor shape: {random_tensor.shape}\")"
      ],
      "metadata": {
        "colab": {
          "base_uri": "https://localhost:8080/"
        },
        "id": "oTpnvOau3NhZ",
        "outputId": "e39ffd8d-60c3-4338-80bd-e6dc8612ea3c"
      },
      "execution_count": 23,
      "outputs": [
        {
          "output_type": "stream",
          "name": "stdout",
          "text": [
            "Random Tensor: tensor([[[0.4949, 0.9985, 0.8792],\n",
            "         [0.6520, 0.8649, 0.0571],\n",
            "         [0.4631, 0.0258, 0.5483]],\n",
            "\n",
            "        [[0.0091, 0.9343, 0.0111],\n",
            "         [0.2552, 0.5513, 0.9949],\n",
            "         [0.0621, 0.2309, 0.8015]]])\n",
            "Random Tensor datatype: torch.float32\n",
            "Random Tensor dimension: 3\n",
            "Random Tensor shape: torch.Size([2, 3, 3])\n"
          ]
        }
      ]
    },
    {
      "cell_type": "markdown",
      "source": [
        "- Eg, random tensor of a common image shape of [3,224,224], [color_channels, height, width]"
      ],
      "metadata": {
        "id": "oHsQxdVY4Bev"
      }
    },
    {
      "cell_type": "code",
      "source": [
        "random_image_size_tensor = torch.rand(size=(3,224,224))\n",
        "print(f\"Image tensor shape: {random_image_size_tensor.shape}\")\n",
        "print(f\"Image tensor dimension: {random_image_size_tensor.ndim}\")"
      ],
      "metadata": {
        "colab": {
          "base_uri": "https://localhost:8080/"
        },
        "id": "QW6PKHfg4iA3",
        "outputId": "ab179956-19eb-4860-c66e-5cd575e63810"
      },
      "execution_count": 24,
      "outputs": [
        {
          "output_type": "stream",
          "name": "stdout",
          "text": [
            "Image tensor shape: torch.Size([3, 224, 224])\n",
            "Image tensor dimension: 3\n"
          ]
        }
      ]
    },
    {
      "cell_type": "code",
      "source": [
        "print(f\"Random image tensor printed: {random_image_size_tensor}\" )"
      ],
      "metadata": {
        "colab": {
          "base_uri": "https://localhost:8080/"
        },
        "id": "J2B7YUjM48K9",
        "outputId": "b4bea17e-b2f9-4701-8d53-eca89510de43"
      },
      "execution_count": 25,
      "outputs": [
        {
          "output_type": "stream",
          "name": "stdout",
          "text": [
            "Random image tensor printed: tensor([[[0.8174, 0.3323, 0.5559,  ..., 0.0775, 0.2448, 0.7585],\n",
            "         [0.6359, 0.0808, 0.0010,  ..., 0.7165, 0.2291, 0.9052],\n",
            "         [0.0797, 0.1218, 0.1867,  ..., 0.4309, 0.6448, 0.3291],\n",
            "         ...,\n",
            "         [0.2083, 0.3635, 0.5190,  ..., 0.7809, 0.5815, 0.6453],\n",
            "         [0.2445, 0.6036, 0.3890,  ..., 0.7454, 0.5374, 0.4724],\n",
            "         [0.0332, 0.0177, 0.5264,  ..., 0.9074, 0.0786, 0.1067]],\n",
            "\n",
            "        [[0.6743, 0.1046, 0.2964,  ..., 0.7143, 0.3823, 0.7465],\n",
            "         [0.2174, 0.2605, 0.3016,  ..., 0.7049, 0.2749, 0.8518],\n",
            "         [0.3478, 0.5214, 0.5813,  ..., 0.6895, 0.1661, 0.2331],\n",
            "         ...,\n",
            "         [0.7648, 0.1436, 0.3700,  ..., 0.2157, 0.7487, 0.8775],\n",
            "         [0.8603, 0.5592, 0.8949,  ..., 0.7345, 0.5638, 0.3368],\n",
            "         [0.6789, 0.1153, 0.9579,  ..., 0.4268, 0.2296, 0.1259]],\n",
            "\n",
            "        [[0.9003, 0.6631, 0.5425,  ..., 0.4003, 0.9477, 0.7215],\n",
            "         [0.4974, 0.0799, 0.0056,  ..., 0.5228, 0.8206, 0.7307],\n",
            "         [0.0426, 0.1308, 0.8471,  ..., 0.2975, 0.7305, 0.5450],\n",
            "         ...,\n",
            "         [0.9420, 0.7294, 0.5754,  ..., 0.6901, 0.3290, 0.6998],\n",
            "         [0.0775, 0.0537, 0.6998,  ..., 0.4777, 0.5070, 0.2945],\n",
            "         [0.0865, 0.3241, 0.3122,  ..., 0.1559, 0.2108, 0.8985]]])\n"
          ]
        }
      ]
    },
    {
      "cell_type": "markdown",
      "source": [
        "- Zeroes and Ones can be initialized as torch.zeros(size), and torch.ones(size)"
      ],
      "metadata": {
        "id": "CghcM74w5KtV"
      }
    },
    {
      "cell_type": "markdown",
      "source": [
        "# Tensor Operations\n",
        " - Addition\n",
        " - Subract\n",
        " - Elementwise Multiply\n",
        " - Divide\n",
        " - Matrix Multiply (MatMul)"
      ],
      "metadata": {
        "id": "R3eYkKGN572L"
      }
    },
    {
      "cell_type": "markdown",
      "source": [
        "# Matrix Multiplication\n",
        " - Most common Operations in ML and Dl algorithms\n",
        " - torch.matmul\n",
        " - Denoted by '@'\n",
        " - Two Rules\n",
        "  - Inner Dimensions must match\n",
        "  - Resulting Matrix has the shape of outer dimensions\n",
        "   - Eg(2,3)@(3,2) -> (2,2) shape"
      ],
      "metadata": {
        "id": "vK_wyss46cMc"
      }
    },
    {
      "cell_type": "code",
      "source": [
        "import torch\n",
        "tensor = torch.tensor([1,2,3])\n",
        "tensor.shape"
      ],
      "metadata": {
        "colab": {
          "base_uri": "https://localhost:8080/"
        },
        "id": "zP0XRDZp62OI",
        "outputId": "fc67b5c7-9ea0-42a7-f7b4-89590e27e799"
      },
      "execution_count": 27,
      "outputs": [
        {
          "output_type": "execute_result",
          "data": {
            "text/plain": [
              "torch.Size([3])"
            ]
          },
          "metadata": {},
          "execution_count": 27
        }
      ]
    },
    {
      "cell_type": "code",
      "source": [
        "# Elementwise Multiply\n",
        "print(f\"Elementwise Multiplied -> Tensor * Tensor: {tensor*tensor}\")\n",
        "\n",
        "# Matmul\n",
        "print(f\"Matrix multiply -> Tensor @ Tensor {torch.matmul(tensor,tensor)}\")"
      ],
      "metadata": {
        "colab": {
          "base_uri": "https://localhost:8080/"
        },
        "id": "lflhmDyD6_W_",
        "outputId": "932037c8-3b6e-4f80-9ef8-5d94e5b2bb01"
      },
      "execution_count": 30,
      "outputs": [
        {
          "output_type": "stream",
          "name": "stdout",
          "text": [
            "Elementwise Multiplied -> Tensor * Tensor: tensor([1, 4, 9])\n",
            "Matrix multiply -> Tensor @ Tensor 14\n"
          ]
        }
      ]
    },
    {
      "cell_type": "code",
      "source": [
        "%%time\n",
        "# Matrix multiplication by hand \n",
        "# (avoid doing operations with for loops at all cost, they are computationally expensive)\n",
        "value = 0\n",
        "for i in range(len(tensor)):\n",
        "  value += tensor[i] * tensor[i]\n",
        "value"
      ],
      "metadata": {
        "colab": {
          "base_uri": "https://localhost:8080/"
        },
        "id": "TAqlTmL88HIJ",
        "outputId": "8fb9494c-c06f-468f-dbd4-d59c49d18e4c"
      },
      "execution_count": 31,
      "outputs": [
        {
          "output_type": "stream",
          "name": "stdout",
          "text": [
            "CPU times: user 2.94 ms, sys: 92 µs, total: 3.03 ms\n",
            "Wall time: 6.91 ms\n"
          ]
        },
        {
          "output_type": "execute_result",
          "data": {
            "text/plain": [
              "tensor(14)"
            ]
          },
          "metadata": {},
          "execution_count": 31
        }
      ]
    },
    {
      "cell_type": "code",
      "source": [
        "%%time\n",
        "torch.matmul(tensor, tensor)"
      ],
      "metadata": {
        "colab": {
          "base_uri": "https://localhost:8080/"
        },
        "id": "deLrL1zo8PAc",
        "outputId": "631387b2-ef38-4f48-8b7f-e66a427f89f8"
      },
      "execution_count": 32,
      "outputs": [
        {
          "output_type": "stream",
          "name": "stdout",
          "text": [
            "CPU times: user 726 µs, sys: 0 ns, total: 726 µs\n",
            "Wall time: 529 µs\n"
          ]
        },
        {
          "output_type": "execute_result",
          "data": {
            "text/plain": [
              "tensor(14)"
            ]
          },
          "metadata": {},
          "execution_count": 32
        }
      ]
    },
    {
      "cell_type": "markdown",
      "source": [
        "- Some common errors in DL would arise from multiplying two tensors of different dimensions. Here we can try transposing with tensor.transpose (.T) and then multiplying\n",
        "- Torch.mm is the shortcut for torch.matmul\n",
        "- Also referred as the dot product of two matrices"
      ],
      "metadata": {
        "id": "P1PnOcqq8dq7"
      }
    },
    {
      "cell_type": "markdown",
      "source": [
        "- Min, Max, Mean, Sum, Positional Min/Max\n",
        "- Reshaping/Stacking/Squeezing/UnSqueezing\n",
        "- Indexing (selecting data from tensors\n",
        "- Torch.arange; Torch.reshape"
      ],
      "metadata": {
        "id": "PV-QDaaPAhxa"
      }
    }
  ]
}