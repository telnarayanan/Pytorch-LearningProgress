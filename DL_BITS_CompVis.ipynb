{
  "nbformat": 4,
  "nbformat_minor": 0,
  "metadata": {
    "colab": {
      "name": "DL-BITS-CompVis.ipynb",
      "provenance": [],
      "authorship_tag": "ABX9TyNCQ+hpyfPhmI86V0FK4dgJ",
      "include_colab_link": true
    },
    "kernelspec": {
      "name": "python3",
      "display_name": "Python 3"
    },
    "language_info": {
      "name": "python"
    }
  },
  "cells": [
    {
      "cell_type": "markdown",
      "metadata": {
        "id": "view-in-github",
        "colab_type": "text"
      },
      "source": [
        "<a href=\"https://colab.research.google.com/github/telnarayanan/Pytorch-LearningProgress/blob/main/DL_BITS_CompVis.ipynb\" target=\"_parent\"><img src=\"https://colab.research.google.com/assets/colab-badge.svg\" alt=\"Open In Colab\"/></a>"
      ]
    },
    {
      "cell_type": "code",
      "execution_count": null,
      "metadata": {
        "id": "wfJcFjBkkH85"
      },
      "outputs": [],
      "source": [
        "# DL dataset to BITS G drive\n",
        "# Preserve same folder structure as BITs\n",
        "  # Same folder structure for IP and OP\n",
        "# EDA\n",
        "# DL Algorithm as per Github - mrdbourke\n"
      ]
    }
  ]
}