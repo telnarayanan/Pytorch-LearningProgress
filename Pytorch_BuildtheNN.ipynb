{
  "nbformat": 4,
  "nbformat_minor": 0,
  "metadata": {
    "colab": {
      "name": "Pytorch_BuildtheNN.ipynb",
      "provenance": [],
      "collapsed_sections": [],
      "authorship_tag": "ABX9TyPDnoi76Y2q/Iou+hgZfZ/U",
      "include_colab_link": true
    },
    "kernelspec": {
      "name": "python3",
      "display_name": "Python 3"
    },
    "language_info": {
      "name": "python"
    },
    "accelerator": "GPU",
    "gpuClass": "standard"
  },
  "cells": [
    {
      "cell_type": "markdown",
      "metadata": {
        "id": "view-in-github",
        "colab_type": "text"
      },
      "source": [
        "<a href=\"https://colab.research.google.com/github/telnarayanan/Pytorch-LearningProgress/blob/main/Pytorch_BuildtheNN.ipynb\" target=\"_parent\"><img src=\"https://colab.research.google.com/assets/colab-badge.svg\" alt=\"Open In Colab\"/></a>"
      ]
    },
    {
      "cell_type": "code",
      "execution_count": 1,
      "metadata": {
        "id": "KUtLYlzW4nRr"
      },
      "outputs": [],
      "source": [
        "import os\n",
        "import torch\n",
        "from torch import nn\n",
        "from torch.utils.data import DataLoader\n",
        "from torchvision import datasets, transforms"
      ]
    },
    {
      "cell_type": "code",
      "source": [
        "device = \"cuda\" if torch.cuda.is_available() else \"cpu\"\n",
        "print(f\"Using {device} device\") \n",
        "\n",
        "#change runtime type in Google colab to GPU"
      ],
      "metadata": {
        "colab": {
          "base_uri": "https://localhost:8080/"
        },
        "id": "U0cGRPF85qAj",
        "outputId": "16f20452-ac96-4d1f-d970-320e3ddc9099"
      },
      "execution_count": 2,
      "outputs": [
        {
          "output_type": "stream",
          "name": "stdout",
          "text": [
            "Using cuda device\n"
          ]
        }
      ]
    },
    {
      "cell_type": "code",
      "source": [
        "class NeuralNetwork(nn.Module):\n",
        "    def __init__(self):\n",
        "        super(NeuralNetwork, self).__init__()\n",
        "        self.flatten = nn.Flatten()\n",
        "        self.linear_relu_stack = nn.Sequential(\n",
        "            nn.Linear(28*28, 512),\n",
        "            nn.ReLU(),\n",
        "            nn.Linear(512,512),\n",
        "            nn.ReLU(),\n",
        "            nn.Linear(512,10),\n",
        "        )\n",
        "    \n",
        "    def forward(self, x):\n",
        "        x = self.flatten(x)\n",
        "        logits = self.linear_relu_stack(x)\n",
        "        return logits\n"
      ],
      "metadata": {
        "id": "bMS64OKO6PE8"
      },
      "execution_count": 3,
      "outputs": []
    },
    {
      "cell_type": "code",
      "source": [
        "#    create instance of Neural Network, and move it to the GPU device, and print its structure\n",
        "\n",
        "model = NeuralNetwork().to(device)\n",
        "print(model)"
      ],
      "metadata": {
        "colab": {
          "base_uri": "https://localhost:8080/"
        },
        "id": "QelYivk-7omS",
        "outputId": "4b28ebf8-9082-4228-c407-ef1feb1fb211"
      },
      "execution_count": 4,
      "outputs": [
        {
          "output_type": "stream",
          "name": "stdout",
          "text": [
            "NeuralNetwork(\n",
            "  (flatten): Flatten(start_dim=1, end_dim=-1)\n",
            "  (linear_relu_stack): Sequential(\n",
            "    (0): Linear(in_features=784, out_features=512, bias=True)\n",
            "    (1): ReLU()\n",
            "    (2): Linear(in_features=512, out_features=512, bias=True)\n",
            "    (3): ReLU()\n",
            "    (4): Linear(in_features=512, out_features=10, bias=True)\n",
            "  )\n",
            ")\n"
          ]
        }
      ]
    },
    {
      "cell_type": "code",
      "source": [
        "X = torch.rand(1, 28, 28, device = device)\n",
        "logits = model(X)\n",
        "pred_probab = nn.Softmax(dim=1)(logits)\n",
        "y_pred = pred_probab.argmax(1)\n",
        "print(f\"Predicted class: {y_pred}\")"
      ],
      "metadata": {
        "colab": {
          "base_uri": "https://localhost:8080/"
        },
        "id": "btDNl5CT72Ca",
        "outputId": "d493c64a-42a7-4ff8-ee16-7d818b175491"
      },
      "execution_count": 5,
      "outputs": [
        {
          "output_type": "stream",
          "name": "stdout",
          "text": [
            "Predicted class: tensor([8], device='cuda:0')\n"
          ]
        }
      ]
    },
    {
      "cell_type": "code",
      "source": [
        "# Model Layers\n",
        "input_image = torch.rand(3,28,28)\n",
        "print(input_image.size())"
      ],
      "metadata": {
        "colab": {
          "base_uri": "https://localhost:8080/"
        },
        "id": "Gh7K6hAGRqFt",
        "outputId": "230ed87a-fddb-4cf1-80a1-d18c18508975"
      },
      "execution_count": 6,
      "outputs": [
        {
          "output_type": "stream",
          "name": "stdout",
          "text": [
            "torch.Size([3, 28, 28])\n"
          ]
        }
      ]
    },
    {
      "cell_type": "code",
      "source": [
        "# flatten 28*28 image to an array of 784 pixels\n",
        "flatten = nn.Flatten()\n",
        "flat_image = flatten(input_image)\n",
        "print(flat_image.size())"
      ],
      "metadata": {
        "colab": {
          "base_uri": "https://localhost:8080/"
        },
        "id": "IC53xRvrR8p7",
        "outputId": "21600b51-17aa-4ab3-e3e2-7b66b589d9c9"
      },
      "execution_count": 7,
      "outputs": [
        {
          "output_type": "stream",
          "name": "stdout",
          "text": [
            "torch.Size([3, 784])\n"
          ]
        }
      ]
    },
    {
      "cell_type": "code",
      "source": [
        "#nn.linear\n",
        "#linear layer applies linear tranformations on the input using stored weights and biases\n",
        "\n",
        "layer1 = nn.Linear(in_features=28*28, out_features=20)\n",
        "hidden1 = layer1(flat_image)\n",
        "print(hidden1.size())"
      ],
      "metadata": {
        "colab": {
          "base_uri": "https://localhost:8080/"
        },
        "id": "2nSgdcw3Sizv",
        "outputId": "c3bf8a6b-1b79-4ceb-f24f-abe0d00999a4"
      },
      "execution_count": 9,
      "outputs": [
        {
          "output_type": "stream",
          "name": "stdout",
          "text": [
            "torch.Size([3, 20])\n"
          ]
        }
      ]
    },
    {
      "cell_type": "code",
      "source": [
        "# nn.ReLU\n",
        "\n",
        "print(f\"Before ReLU: {hidden1} \\n\\n\")\n",
        "hidden1 = nn.ReLU()(hidden1)\n",
        "print(f\"After ReLU: {hidden1}\")"
      ],
      "metadata": {
        "colab": {
          "base_uri": "https://localhost:8080/"
        },
        "id": "YKQglGq9S3Mj",
        "outputId": "7785628e-f000-471c-bd2b-bb18337e09eb"
      },
      "execution_count": 10,
      "outputs": [
        {
          "output_type": "stream",
          "name": "stdout",
          "text": [
            "Before ReLU: tensor([[ 0.2866,  0.3843,  0.1691, -0.4716,  0.1913, -0.4036, -0.1965, -0.5103,\n",
            "          0.5433,  0.2174, -0.3347, -0.0042, -0.2554, -0.0546,  0.6032, -0.3051,\n",
            "          0.5634,  0.1412, -0.0023,  0.5214],\n",
            "        [ 0.6692,  0.6105,  0.3904, -0.7561, -0.0780, -0.7150, -0.2799, -0.3847,\n",
            "          0.8429,  0.0388, -0.5913, -0.0968,  0.1369,  0.2815,  0.1765, -0.1570,\n",
            "          0.0289,  0.1246,  0.4680,  0.1163],\n",
            "        [ 0.5026,  0.8071,  0.0988, -0.6654,  0.2934, -0.6566, -0.3758, -0.1287,\n",
            "          0.8407, -0.3930, -0.6633,  0.2010,  0.1282,  0.1672,  0.2097,  0.1593,\n",
            "          0.2695,  0.1217,  0.3988,  0.0321]], grad_fn=<AddmmBackward0>) \n",
            "\n",
            "\n",
            "After ReLU: tensor([[0.2866, 0.3843, 0.1691, 0.0000, 0.1913, 0.0000, 0.0000, 0.0000, 0.5433,\n",
            "         0.2174, 0.0000, 0.0000, 0.0000, 0.0000, 0.6032, 0.0000, 0.5634, 0.1412,\n",
            "         0.0000, 0.5214],\n",
            "        [0.6692, 0.6105, 0.3904, 0.0000, 0.0000, 0.0000, 0.0000, 0.0000, 0.8429,\n",
            "         0.0388, 0.0000, 0.0000, 0.1369, 0.2815, 0.1765, 0.0000, 0.0289, 0.1246,\n",
            "         0.4680, 0.1163],\n",
            "        [0.5026, 0.8071, 0.0988, 0.0000, 0.2934, 0.0000, 0.0000, 0.0000, 0.8407,\n",
            "         0.0000, 0.0000, 0.2010, 0.1282, 0.1672, 0.2097, 0.1593, 0.2695, 0.1217,\n",
            "         0.3988, 0.0321]], grad_fn=<ReluBackward0>)\n"
          ]
        }
      ]
    },
    {
      "cell_type": "code",
      "source": [
        "## nn.Sequential\n",
        "# ordered container of modules.Data is passed through all the modules in the same order as defined\n",
        "\n",
        "seq_modules = nn.Sequential(\n",
        "    flatten,\n",
        "    layer1,\n",
        "    nn.ReLU(),\n",
        "    nn.Linear(20,10)\n",
        ")\n",
        "\n",
        "input_image = torch.rand(3,28,28)\n",
        "print(input_image)\n",
        "logits = seq_modules(input_image)"
      ],
      "metadata": {
        "colab": {
          "base_uri": "https://localhost:8080/"
        },
        "id": "5n2ZSRvUTZ3l",
        "outputId": "7cfaf948-11b4-4695-9522-bea6fb9a1eca"
      },
      "execution_count": 11,
      "outputs": [
        {
          "output_type": "stream",
          "name": "stdout",
          "text": [
            "tensor([[[0.0680, 0.7616, 0.5528,  ..., 0.9322, 0.0115, 0.6496],\n",
            "         [0.3366, 0.6306, 0.4614,  ..., 0.8420, 0.0613, 0.8634],\n",
            "         [0.1695, 0.4659, 0.6480,  ..., 0.3046, 0.3096, 0.9135],\n",
            "         ...,\n",
            "         [0.0404, 0.1507, 0.5691,  ..., 0.8548, 0.7144, 0.3007],\n",
            "         [0.4429, 0.8884, 0.7545,  ..., 0.1064, 0.7085, 0.1417],\n",
            "         [0.5657, 0.8339, 0.4647,  ..., 0.4014, 0.3266, 0.9900]],\n",
            "\n",
            "        [[0.5191, 0.8212, 0.5053,  ..., 0.2484, 0.1964, 0.8309],\n",
            "         [0.1716, 0.3467, 0.9083,  ..., 0.6083, 0.3221, 0.0641],\n",
            "         [0.1673, 0.5461, 0.4930,  ..., 0.9914, 0.5510, 0.2971],\n",
            "         ...,\n",
            "         [0.5320, 0.8728, 0.7696,  ..., 0.2029, 0.2596, 0.0607],\n",
            "         [0.7097, 0.8013, 0.3148,  ..., 0.3590, 0.1930, 0.3133],\n",
            "         [0.0487, 0.6025, 0.2810,  ..., 0.0877, 0.1125, 0.8403]],\n",
            "\n",
            "        [[0.0236, 0.1477, 0.1820,  ..., 0.1164, 0.5236, 0.0529],\n",
            "         [0.6574, 0.4200, 0.8998,  ..., 0.3276, 0.2665, 0.2225],\n",
            "         [0.5346, 0.7648, 0.0210,  ..., 0.3077, 0.4941, 0.4741],\n",
            "         ...,\n",
            "         [0.3762, 0.1818, 0.2314,  ..., 0.4245, 0.9878, 0.9623],\n",
            "         [0.3842, 0.9382, 0.7572,  ..., 0.7897, 0.3853, 0.2468],\n",
            "         [0.6287, 0.0363, 0.5215,  ..., 0.5025, 0.2809, 0.1415]]])\n"
          ]
        }
      ]
    },
    {
      "cell_type": "code",
      "source": [
        "softmax = nn.Softmax(dim=1)\n",
        "pred_probab = softmax(logits)"
      ],
      "metadata": {
        "id": "hFARCafWUgSJ"
      },
      "execution_count": 12,
      "outputs": []
    },
    {
      "cell_type": "code",
      "source": [
        "print(f\"Model Structure: {model}\\n\\n\")\n",
        "\n",
        "for name,param in model.named_parameters():\n",
        "    print(f\"Layer: {name} | Size : {param.size()} \\n| Values: {param[:2]}\\n ---------\")"
      ],
      "metadata": {
        "colab": {
          "base_uri": "https://localhost:8080/"
        },
        "id": "gsK9UtTnUpA8",
        "outputId": "2ce5e61d-098f-4408-9c82-0b0406a068fc"
      },
      "execution_count": 14,
      "outputs": [
        {
          "output_type": "stream",
          "name": "stdout",
          "text": [
            "Model Structure: NeuralNetwork(\n",
            "  (flatten): Flatten(start_dim=1, end_dim=-1)\n",
            "  (linear_relu_stack): Sequential(\n",
            "    (0): Linear(in_features=784, out_features=512, bias=True)\n",
            "    (1): ReLU()\n",
            "    (2): Linear(in_features=512, out_features=512, bias=True)\n",
            "    (3): ReLU()\n",
            "    (4): Linear(in_features=512, out_features=10, bias=True)\n",
            "  )\n",
            ")\n",
            "\n",
            "\n",
            "Layer: linear_relu_stack.0.weight | Size : torch.Size([512, 784]) \n",
            "| Values: tensor([[-0.0108, -0.0322,  0.0134,  ..., -0.0252, -0.0177, -0.0229],\n",
            "        [ 0.0284,  0.0067, -0.0022,  ..., -0.0223, -0.0222, -0.0356]],\n",
            "       device='cuda:0', grad_fn=<SliceBackward0>)\n",
            " ---------\n",
            "Layer: linear_relu_stack.0.bias | Size : torch.Size([512]) \n",
            "| Values: tensor([ 0.0348, -0.0317], device='cuda:0', grad_fn=<SliceBackward0>)\n",
            " ---------\n",
            "Layer: linear_relu_stack.2.weight | Size : torch.Size([512, 512]) \n",
            "| Values: tensor([[ 0.0063, -0.0182, -0.0046,  ..., -0.0177,  0.0372,  0.0117],\n",
            "        [ 0.0405, -0.0368,  0.0324,  ...,  0.0223, -0.0344, -0.0160]],\n",
            "       device='cuda:0', grad_fn=<SliceBackward0>)\n",
            " ---------\n",
            "Layer: linear_relu_stack.2.bias | Size : torch.Size([512]) \n",
            "| Values: tensor([-0.0126,  0.0402], device='cuda:0', grad_fn=<SliceBackward0>)\n",
            " ---------\n",
            "Layer: linear_relu_stack.4.weight | Size : torch.Size([10, 512]) \n",
            "| Values: tensor([[-0.0143, -0.0148,  0.0082,  ..., -0.0186, -0.0077, -0.0362],\n",
            "        [-0.0055, -0.0421,  0.0225,  ..., -0.0173,  0.0237, -0.0155]],\n",
            "       device='cuda:0', grad_fn=<SliceBackward0>)\n",
            " ---------\n",
            "Layer: linear_relu_stack.4.bias | Size : torch.Size([10]) \n",
            "| Values: tensor([0.0183, 0.0187], device='cuda:0', grad_fn=<SliceBackward0>)\n",
            " ---------\n"
          ]
        }
      ]
    }
  ]
}