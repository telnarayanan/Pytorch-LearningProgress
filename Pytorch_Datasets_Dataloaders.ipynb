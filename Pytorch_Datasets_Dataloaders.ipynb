{
  "nbformat": 4,
  "nbformat_minor": 0,
  "metadata": {
    "colab": {
      "name": "Pytorch-Datasets-Dataloaders.ipynb",
      "provenance": [],
      "authorship_tag": "ABX9TyMciNevvDutEWxsYDjLHQpT",
      "include_colab_link": true
    },
    "kernelspec": {
      "name": "python3",
      "display_name": "Python 3"
    },
    "language_info": {
      "name": "python"
    }
  },
  "cells": [
    {
      "cell_type": "markdown",
      "metadata": {
        "id": "view-in-github",
        "colab_type": "text"
      },
      "source": [
        "<a href=\"https://colab.research.google.com/github/telnarayanan/Pytorch-LearningProgress/blob/main/Pytorch_Datasets_Dataloaders.ipynb\" target=\"_parent\"><img src=\"https://colab.research.google.com/assets/colab-badge.svg\" alt=\"Open In Colab\"/></a>"
      ]
    },
    {
      "cell_type": "code",
      "execution_count": null,
      "metadata": {
        "id": "8llQ8-EIlSa8"
      },
      "outputs": [],
      "source": [
        "# Main Aim is to decouple Dataset code and Model training code\n",
        "# two data primitives\n",
        "# torch.utils.data.DataLoader and torch.utils.data.Dataset\n",
        "\n",
        "# Dataloader wraps and iterable around the Dataset, to enable easy access to samples"
      ]
    },
    {
      "cell_type": "code",
      "source": [
        ""
      ],
      "metadata": {
        "id": "d9atMR9wmqEz"
      },
      "execution_count": null,
      "outputs": []
    }
  ]
}