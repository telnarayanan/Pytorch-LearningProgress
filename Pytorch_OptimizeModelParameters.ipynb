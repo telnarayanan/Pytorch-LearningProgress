{
  "nbformat": 4,
  "nbformat_minor": 0,
  "metadata": {
    "colab": {
      "name": "Pytorch_OptimizeModelParameters.ipynb",
      "provenance": [],
      "authorship_tag": "ABX9TyP27PCuYsP1U7hk3TQ/lAJl",
      "include_colab_link": true
    },
    "kernelspec": {
      "name": "python3",
      "display_name": "Python 3"
    },
    "language_info": {
      "name": "python"
    }
  },
  "cells": [
    {
      "cell_type": "markdown",
      "metadata": {
        "id": "view-in-github",
        "colab_type": "text"
      },
      "source": [
        "<a href=\"https://colab.research.google.com/github/telnarayanan/Pytorch-LearningProgress/blob/main/Pytorch_OptimizeModelParameters.ipynb\" target=\"_parent\"><img src=\"https://colab.research.google.com/assets/colab-badge.svg\" alt=\"Open In Colab\"/></a>"
      ]
    },
    {
      "cell_type": "code",
      "execution_count": 1,
      "metadata": {
        "id": "AM7YJHNKbOQr"
      },
      "outputs": [],
      "source": [
        "# Model guesses output\n",
        "# Calculates error on its Guess (loss)\n",
        "# Collects derivatives of the error w.r.t its parameters\n",
        "# Optimizes the parameters using gradient descent"
      ]
    }
  ]
}