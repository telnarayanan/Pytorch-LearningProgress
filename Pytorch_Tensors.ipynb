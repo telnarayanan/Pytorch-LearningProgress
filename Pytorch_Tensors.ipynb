{
  "nbformat": 4,
  "nbformat_minor": 0,
  "metadata": {
    "colab": {
      "name": "Pytorch-Tensors.ipynb",
      "provenance": [],
      "collapsed_sections": [],
      "authorship_tag": "ABX9TyN09B2tnoF55BREjN5o6aDe",
      "include_colab_link": true
    },
    "kernelspec": {
      "name": "python3",
      "display_name": "Python 3"
    },
    "language_info": {
      "name": "python"
    },
    "accelerator": "GPU",
    "gpuClass": "standard"
  },
  "cells": [
    {
      "cell_type": "markdown",
      "metadata": {
        "id": "view-in-github",
        "colab_type": "text"
      },
      "source": [
        "<a href=\"https://colab.research.google.com/github/telnarayanan/Pytorch-LearningProgress/blob/main/Pytorch_Tensors.ipynb\" target=\"_parent\"><img src=\"https://colab.research.google.com/assets/colab-badge.svg\" alt=\"Open In Colab\"/></a>"
      ]
    },
    {
      "cell_type": "code",
      "execution_count": null,
      "metadata": {
        "id": "c95BRjfdJCWU"
      },
      "outputs": [],
      "source": [
        "import torch"
      ]
    },
    {
      "cell_type": "code",
      "source": [
        "import numpy as np"
      ],
      "metadata": {
        "id": "z_b0uOgoLZ6e"
      },
      "execution_count": null,
      "outputs": []
    },
    {
      "cell_type": "code",
      "source": [
        "data = [\n",
        "    [1,2],\n",
        "    [3,4]\n",
        "]\n",
        "x_data = torch.tensor(data)"
      ],
      "metadata": {
        "id": "p9zt50mfLlCb"
      },
      "execution_count": null,
      "outputs": []
    },
    {
      "cell_type": "code",
      "source": [
        "np_array = np.array(data)\n",
        "x_np = torch.from_numpy(np_array)"
      ],
      "metadata": {
        "id": "o48aiptyLyn4"
      },
      "execution_count": null,
      "outputs": []
    },
    {
      "cell_type": "code",
      "source": [
        "x_ones = torch.ones_like(x_data)\n",
        "print(f\"x_data :{x_data}\\n\")\n",
        "print(f\"x_ones : Ones Tensor shaped like x_data: {x_ones}\\n\")\n",
        "\n",
        "x_rand = torch.rand_like(x_data, dtype=torch.float)\n",
        "print(f\"Random Tensor: \\n {x_rand} \\n\")"
      ],
      "metadata": {
        "colab": {
          "base_uri": "https://localhost:8080/"
        },
        "id": "y6ISNAd0MByU",
        "outputId": "49704334-efbe-46cd-d143-16b325822d96"
      },
      "execution_count": null,
      "outputs": [
        {
          "output_type": "stream",
          "name": "stdout",
          "text": [
            "x_data :tensor([[1, 2],\n",
            "        [3, 4]])\n",
            "\n",
            "x_ones : Ones Tensor shaped like x_data: tensor([[1, 1],\n",
            "        [1, 1]])\n",
            "\n",
            "Random Tensor: \n",
            " tensor([[0.2573, 0.1363],\n",
            "        [0.2015, 0.2479]]) \n",
            "\n"
          ]
        }
      ]
    },
    {
      "cell_type": "code",
      "source": [
        "shape=(2,3,)\n",
        "rand_tensor = torch.rand(shape)\n",
        "ones_tensor = torch.ones(shape)\n",
        "zeros_tensor = torch.zeros(shape)\n",
        "\n",
        "print(f\"Random tensor: {rand_tensor}\\n\")\n",
        "print(f\"ones_tensor: {ones_tensor}\\n\")\n",
        "print(f\"Zeros_tensor: {zeros_tensor}\\n\")"
      ],
      "metadata": {
        "colab": {
          "base_uri": "https://localhost:8080/"
        },
        "id": "xqGrYKYuNw6C",
        "outputId": "583841eb-b495-46b4-f1a9-3f784efa28f9"
      },
      "execution_count": null,
      "outputs": [
        {
          "output_type": "stream",
          "name": "stdout",
          "text": [
            "Random tensor: tensor([[3.4475e-01, 3.5969e-01, 8.5996e-01],\n",
            "        [3.4601e-01, 5.3086e-01, 4.3964e-04]])\n",
            "\n",
            "ones_tensor: tensor([[1., 1., 1.],\n",
            "        [1., 1., 1.]])\n",
            "\n",
            "Zeros_tensor: tensor([[0., 0., 0.],\n",
            "        [0., 0., 0.]])\n",
            "\n"
          ]
        }
      ]
    },
    {
      "cell_type": "code",
      "source": [
        "#Attributes\n",
        "\n",
        "x_tensor=torch.rand(5,6)\n",
        "\n",
        "print(f\"Shape of Tensor: {x_tensor.shape}\")\n",
        "print(f\"Datatype of Tensor: {x_tensor.dtype}\")\n",
        "print(f\"Device in which the tensor is stored on: {x_tensor.device}\")"
      ],
      "metadata": {
        "colab": {
          "base_uri": "https://localhost:8080/"
        },
        "id": "mZy9ZgPnOTGY",
        "outputId": "0efd6a5c-ba9d-4f12-eba5-7c9b7adcad74"
      },
      "execution_count": null,
      "outputs": [
        {
          "output_type": "stream",
          "name": "stdout",
          "text": [
            "Shape of Tensor: torch.Size([5, 6])\n",
            "Datatype of Tensor: torch.float32\n",
            "Device in which the tensor is stored on: cpu\n"
          ]
        }
      ]
    },
    {
      "cell_type": "code",
      "source": [
        "#Operations on a Tensor\n",
        "#Over 100 operations possible on a Tensor\n",
        "\n",
        "if torch.cuda.is_available():\n",
        "  x_tensor = x_tensor.to(\"cuda\")\n",
        "\n",
        "print(f\"Device in which Tensor is stored on: {x_tensor.device}\")"
      ],
      "metadata": {
        "colab": {
          "base_uri": "https://localhost:8080/"
        },
        "id": "IFTBZC6CPM-_",
        "outputId": "cedc27f2-2c9f-41b4-ff2b-5e8f10eb5a8f"
      },
      "execution_count": null,
      "outputs": [
        {
          "output_type": "stream",
          "name": "stdout",
          "text": [
            "Device in which Tensor is stored on: cuda:0\n"
          ]
        }
      ]
    },
    {
      "cell_type": "code",
      "source": [
        "x_tensor=torch.ones(3,4)\n",
        "\n",
        "print(f\"First Row: {x_tensor[0]}\")\n",
        "print(f\"First Column: {x_tensor[:,0]}\")\n",
        "print(f\"Last column: {x_tensor[:,-1]}\")\n",
        "x_tensor[:,1] = 0\n",
        "\n",
        "print(x_tensor)"
      ],
      "metadata": {
        "colab": {
          "base_uri": "https://localhost:8080/"
        },
        "id": "Onmmik_RP8Cm",
        "outputId": "ce039a70-96c8-43bc-bdc7-8288345c76d1"
      },
      "execution_count": null,
      "outputs": [
        {
          "output_type": "stream",
          "name": "stdout",
          "text": [
            "First Row: tensor([1., 1., 1., 1.])\n",
            "First Column: tensor([1., 1., 1.])\n",
            "Last column: tensor([1., 1., 1.])\n",
            "tensor([[1., 0., 1., 1.],\n",
            "        [1., 0., 1., 1.],\n",
            "        [1., 0., 1., 1.]])\n"
          ]
        }
      ]
    },
    {
      "cell_type": "code",
      "source": [
        "#Joining Tensors\n",
        "#torch.cat to join tensors, concatenate a sequence of tensors along given dimension.\n",
        "\n",
        "t1 = torch.cat([x_tensor,x_tensor,x_tensor], dim=1)\n",
        "print(t1)"
      ],
      "metadata": {
        "colab": {
          "base_uri": "https://localhost:8080/"
        },
        "id": "nEooK4TKaSgl",
        "outputId": "63cbc941-2ed6-4678-8dc9-e07b15a495a3"
      },
      "execution_count": null,
      "outputs": [
        {
          "output_type": "stream",
          "name": "stdout",
          "text": [
            "tensor([[1., 0., 1., 1., 1., 0., 1., 1., 1., 0., 1., 1.],\n",
            "        [1., 0., 1., 1., 1., 0., 1., 1., 1., 0., 1., 1.],\n",
            "        [1., 0., 1., 1., 1., 0., 1., 1., 1., 0., 1., 1.]])\n"
          ]
        }
      ]
    },
    {
      "cell_type": "code",
      "source": [
        "# MatMul\n",
        "\n",
        "y1 = x_tensor@x_tensor.T\n",
        "y2 = x_tensor.matmul(x_tensor.T)\n",
        "y3 = torch.rand_like(y1)  \n",
        "torch.matmul(x_tensor, x_tensor.T, out=y3)\n",
        "\n",
        "\n"
      ],
      "metadata": {
        "colab": {
          "base_uri": "https://localhost:8080/"
        },
        "id": "Sd78VF9ba3kh",
        "outputId": "9a483e25-0888-46a1-eaf0-5c7928a3d4ad"
      },
      "execution_count": null,
      "outputs": [
        {
          "output_type": "execute_result",
          "data": {
            "text/plain": [
              "tensor([[3., 3., 3.],\n",
              "        [3., 3., 3.],\n",
              "        [3., 3., 3.]])"
            ]
          },
          "metadata": {},
          "execution_count": 22
        }
      ]
    },
    {
      "cell_type": "code",
      "source": [
        "# Element wise multiplication\n",
        "\n",
        "z1 = x_tensor*x_tensor\n",
        "z2 = x_tensor.mul(x_tensor)\n",
        "z3 = torch.rand_like(x_tensor)\n",
        "torch.mul(x_tensor, x_tensor, out=z3)\n"
      ],
      "metadata": {
        "colab": {
          "base_uri": "https://localhost:8080/"
        },
        "id": "ok9XSPRbctlT",
        "outputId": "1018ab0c-b007-4fee-d2b8-685ffdf37618"
      },
      "execution_count": null,
      "outputs": [
        {
          "output_type": "execute_result",
          "data": {
            "text/plain": [
              "tensor([[1., 0., 1., 1.],\n",
              "        [1., 0., 1., 1.],\n",
              "        [1., 0., 1., 1.]])"
            ]
          },
          "metadata": {},
          "execution_count": 23
        }
      ]
    },
    {
      "cell_type": "code",
      "source": [
        "# Single-element tensor\n",
        "agg = x_tensor.sum()\n",
        "agg_item = agg.item()\n",
        "print(agg_item, type(agg_item))"
      ],
      "metadata": {
        "colab": {
          "base_uri": "https://localhost:8080/"
        },
        "id": "Tv4EtzvldJxa",
        "outputId": "9b7cbf5a-35df-45da-bdf8-e1254672f492"
      },
      "execution_count": 24,
      "outputs": [
        {
          "output_type": "stream",
          "name": "stdout",
          "text": [
            "9.0 <class 'float'>\n"
          ]
        }
      ]
    },
    {
      "cell_type": "code",
      "source": [
        "#inplace operations (with prior_)\n",
        "\n",
        "print(f\"{x_tensor}\\n\")\n",
        "x_tensor.add_(10)\n",
        "print(x_tensor)\n"
      ],
      "metadata": {
        "colab": {
          "base_uri": "https://localhost:8080/"
        },
        "id": "FiTeaPNGdbC3",
        "outputId": "bb611b94-0c6e-401f-acc3-a1f84d11fbb2"
      },
      "execution_count": 25,
      "outputs": [
        {
          "output_type": "stream",
          "name": "stdout",
          "text": [
            "tensor([[1., 0., 1., 1.],\n",
            "        [1., 0., 1., 1.],\n",
            "        [1., 0., 1., 1.]])\n",
            "\n",
            "tensor([[11., 10., 11., 11.],\n",
            "        [11., 10., 11., 11.],\n",
            "        [11., 10., 11., 11.]])\n"
          ]
        }
      ]
    },
    {
      "cell_type": "code",
      "source": [
        "#numpy and tensors have the same  memory locations, and are bridged.\n",
        "#modifying the numpy, will also modify tensor value, and vice versa\n",
        "\n",
        "#declare a new numpy array\n",
        "\n",
        "data = [\n",
        "    [4,5],\n",
        "    [6,7],\n",
        "    [8,9]\n",
        "]\n",
        "x_numpy = np.array(data)\n",
        "\n",
        "#copy the numpy array to the tensor\n",
        "\n",
        "x_newtensor = torch.from_numpy(x_numpy)\n",
        "\n",
        "#print them both \n",
        "\n",
        "print(f\"Numpy value: \\n{x_numpy}\\n\")\n",
        "print(f\"Tensor value:\\n{x_newtensor}\\n\")\n",
        "\n",
        "#modify the tensor array, and print it\n",
        "\n",
        "x_newtensor.add_(1)\n",
        "print(f\"New Tensor, with 1 added inplace: \\n {x_newtensor} \\n\")\n",
        "\n",
        "#check if numpy has changed\n",
        "print(f\"Checking Numpy: \\n{x_numpy}\\n\")"
      ],
      "metadata": {
        "colab": {
          "base_uri": "https://localhost:8080/"
        },
        "id": "D6O5RhbVieZo",
        "outputId": "1e2317b6-956a-4cc1-8b60-0202f76b1622"
      },
      "execution_count": 31,
      "outputs": [
        {
          "output_type": "stream",
          "name": "stdout",
          "text": [
            "Numpy value: \n",
            "[[4 5]\n",
            " [6 7]\n",
            " [8 9]]\n",
            "\n",
            "Tensor value:\n",
            "tensor([[4, 5],\n",
            "        [6, 7],\n",
            "        [8, 9]])\n",
            "\n",
            "New Tensor, with 1 added inplace: \n",
            " tensor([[ 5,  6],\n",
            "        [ 7,  8],\n",
            "        [ 9, 10]]) \n",
            "\n",
            "Checking Numpy: \n",
            "[[ 5  6]\n",
            " [ 7  8]\n",
            " [ 9 10]]\n",
            "\n"
          ]
        }
      ]
    },
    {
      "cell_type": "code",
      "source": [
        ""
      ],
      "metadata": {
        "id": "SzoSM3JujyQS"
      },
      "execution_count": null,
      "outputs": []
    }
  ]
}