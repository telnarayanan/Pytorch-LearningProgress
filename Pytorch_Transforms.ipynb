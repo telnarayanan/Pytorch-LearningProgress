{
  "nbformat": 4,
  "nbformat_minor": 0,
  "metadata": {
    "colab": {
      "name": "Pytorch_Transforms.ipynb",
      "provenance": [],
      "authorship_tag": "ABX9TyMFPV3uHryN0yt6ZkaM8TfB",
      "include_colab_link": true
    },
    "kernelspec": {
      "name": "python3",
      "display_name": "Python 3"
    },
    "language_info": {
      "name": "python"
    }
  },
  "cells": [
    {
      "cell_type": "markdown",
      "metadata": {
        "id": "view-in-github",
        "colab_type": "text"
      },
      "source": [
        "<a href=\"https://colab.research.google.com/github/telnarayanan/Pytorch-LearningProgress/blob/main/Pytorch_Transforms.ipynb\" target=\"_parent\"><img src=\"https://colab.research.google.com/assets/colab-badge.svg\" alt=\"Open In Colab\"/></a>"
      ]
    },
    {
      "cell_type": "code",
      "execution_count": null,
      "metadata": {
        "id": "mapg5FC301P1"
      },
      "outputs": [],
      "source": [
        "# data has to transformed in a way, that is required for training ML algorithms\n",
        "# we use transforms to perform manipulation, to make it suitable for training\n",
        "\n",
        "#    Two parameters: transform, target_transform\n",
        "#    Transform: Modify Features\n",
        "#    Target_Transform: Modify labels that accepts callables containing transformation logic"
      ]
    },
    {
      "cell_type": "code",
      "source": [
        "import torch\n",
        "from torchvision import datasets\n",
        "from torchvision.transforms import ToTensor, Lambda"
      ],
      "metadata": {
        "id": "gt-rZp-g12SR"
      },
      "execution_count": 1,
      "outputs": []
    },
    {
      "cell_type": "code",
      "source": [
        "ds = datasets.FashionMNIST(\n",
        "    root=\"data\",\n",
        "    train=True,\n",
        "    download=True,\n",
        "    transform=ToTensor(),\n",
        "    target_transform=Lambda(\n",
        "        lambda y: torch.zeros(10,dtype=torch.float).scatter_(0, torch.tensor(y), value=1)\n",
        "    )\n",
        ")\n",
        "#    the lambda function here, is a function to turn the integer, to a one-hot encoded tensor. \n",
        "#    it creates a zero tensor of size 10 (labels in our dataset), and calls scatter, which assigns value 1 on the index location given by label y"
      ],
      "metadata": {
        "id": "BAkiOGq21-rt"
      },
      "execution_count": 4,
      "outputs": []
    },
    {
      "cell_type": "code",
      "source": [
        "ds"
      ],
      "metadata": {
        "colab": {
          "base_uri": "https://localhost:8080/"
        },
        "id": "-TBjqVvJ3Abl",
        "outputId": "fbc0632a-ae48-4bb0-c207-dc81b6062076"
      },
      "execution_count": 5,
      "outputs": [
        {
          "output_type": "execute_result",
          "data": {
            "text/plain": [
              "Dataset FashionMNIST\n",
              "    Number of datapoints: 60000\n",
              "    Root location: data\n",
              "    Split: Train\n",
              "    StandardTransform\n",
              "Transform: ToTensor()\n",
              "Target transform: Lambda()"
            ]
          },
          "metadata": {},
          "execution_count": 5
        }
      ]
    },
    {
      "cell_type": "code",
      "source": [
        ""
      ],
      "metadata": {
        "id": "faDqZawD3E-b"
      },
      "execution_count": null,
      "outputs": []
    }
  ]
}