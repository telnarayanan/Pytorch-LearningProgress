{
  "nbformat": 4,
  "nbformat_minor": 0,
  "metadata": {
    "colab": {
      "name": "Pytorch_Transforms.ipynb",
      "provenance": [],
      "authorship_tag": "ABX9TyOcE1DwNQk932HsvYP76BIJ",
      "include_colab_link": true
    },
    "kernelspec": {
      "name": "python3",
      "display_name": "Python 3"
    },
    "language_info": {
      "name": "python"
    }
  },
  "cells": [
    {
      "cell_type": "markdown",
      "metadata": {
        "id": "view-in-github",
        "colab_type": "text"
      },
      "source": [
        "<a href=\"https://colab.research.google.com/github/telnarayanan/Pytorch-LearningProgress/blob/main/Pytorch_Transforms.ipynb\" target=\"_parent\"><img src=\"https://colab.research.google.com/assets/colab-badge.svg\" alt=\"Open In Colab\"/></a>"
      ]
    },
    {
      "cell_type": "code",
      "execution_count": null,
      "metadata": {
        "id": "mapg5FC301P1"
      },
      "outputs": [],
      "source": [
        "# data has to transformed in a way, that is required for training ML algorithms\n",
        "# we use transforms to perform manipulation, to make it suitable for training\n",
        "\n",
        "#    Two parameters: transform, target_transform\n",
        "#    Transform: Modify Features\n",
        "#    Target_Transform: Modify labels that accepts callables containing transformation logic\n"
      ]
    }
  ]
}