{
  "nbformat": 4,
  "nbformat_minor": 0,
  "metadata": {
    "colab": {
      "name": "Pytorch-automaticdifferentiation.ipynb",
      "provenance": [],
      "authorship_tag": "ABX9TyM8sy9vb2rbaXqP78aIDSBY",
      "include_colab_link": true
    },
    "kernelspec": {
      "name": "python3",
      "display_name": "Python 3"
    },
    "language_info": {
      "name": "python"
    }
  },
  "cells": [
    {
      "cell_type": "markdown",
      "metadata": {
        "id": "view-in-github",
        "colab_type": "text"
      },
      "source": [
        "<a href=\"https://colab.research.google.com/github/telnarayanan/Pytorch-LearningProgress/blob/main/Pytorch_automaticdifferentiation.ipynb\" target=\"_parent\"><img src=\"https://colab.research.google.com/assets/colab-badge.svg\" alt=\"Open In Colab\"/></a>"
      ]
    },
    {
      "cell_type": "code",
      "execution_count": 1,
      "metadata": {
        "id": "K46eUZHcV8Ml"
      },
      "outputs": [],
      "source": [
        "# torch.autograd\n",
        "\n",
        "import torch\n",
        "X = torch.ones(5)     #input tensor\n",
        "y = torch.zeros(3)    #expected output\n",
        "w = torch.randn(5, 3, requires_grad = True)\n",
        "b = torch.randn(3, requires_grad = True)\n",
        "z = torch.matmul(X, w) + b\n",
        "\n",
        "loss = torch.nn.functional.binary_cross_entropy_with_logits(z,y)"
      ]
    },
    {
      "cell_type": "code",
      "source": [
        "print(f\"Gradient function for z = {z.grad_fn}\")\n",
        "print(f\"Gradient function for loss = {loss.grad_fn}\")"
      ],
      "metadata": {
        "colab": {
          "base_uri": "https://localhost:8080/"
        },
        "id": "JwwWwPGlXJKk",
        "outputId": "b1725b23-1827-47a5-e890-bfecbada7ff8"
      },
      "execution_count": 2,
      "outputs": [
        {
          "output_type": "stream",
          "name": "stdout",
          "text": [
            "Gradient function for z = <AddBackward0 object at 0x7fa220d3c590>\n",
            "Gradient function for loss = <BinaryCrossEntropyWithLogitsBackward0 object at 0x7fa220d3cdd0>\n"
          ]
        }
      ]
    },
    {
      "cell_type": "code",
      "source": [
        "loss.backward()\n",
        "print(w.grad)\n",
        "print(b.grad)"
      ],
      "metadata": {
        "colab": {
          "base_uri": "https://localhost:8080/"
        },
        "id": "3M7Bk-JEXYsK",
        "outputId": "99778131-e4d7-4db1-9683-db36f28b334d"
      },
      "execution_count": 3,
      "outputs": [
        {
          "output_type": "stream",
          "name": "stdout",
          "text": [
            "tensor([[0.0856, 0.3308, 0.0049],\n",
            "        [0.0856, 0.3308, 0.0049],\n",
            "        [0.0856, 0.3308, 0.0049],\n",
            "        [0.0856, 0.3308, 0.0049],\n",
            "        [0.0856, 0.3308, 0.0049]])\n",
            "tensor([0.0856, 0.3308, 0.0049])\n"
          ]
        }
      ]
    },
    {
      "cell_type": "code",
      "source": [
        "# disable gradient tracking\n",
        "# sometimes, the gradients' history need not be tracked in the case of a trained model, and we just are going to feed the data\n",
        "# i.e only forward computations. In such cases, we can stop tracking computations\n",
        "\n",
        "\n",
        "z = torch.matmul(X,w) + b\n",
        "print(z.requires_grad)\n",
        "\n",
        "with torch.no_grad():\n",
        "    z = torch.matmul(X,w) + b\n",
        "\n",
        "print(z.requires_grad)\n",
        "    "
      ],
      "metadata": {
        "colab": {
          "base_uri": "https://localhost:8080/"
        },
        "id": "yBgaxtiWXqIf",
        "outputId": "8e433488-f384-4de1-f5d3-4e3c11595e36"
      },
      "execution_count": 4,
      "outputs": [
        {
          "output_type": "stream",
          "name": "stdout",
          "text": [
            "True\n",
            "False\n"
          ]
        }
      ]
    },
    {
      "cell_type": "code",
      "source": [
        "z = torch.matmul(X,w)+b\n",
        "z_det = z.detach()\n",
        "print(z_det.requires_grad)"
      ],
      "metadata": {
        "colab": {
          "base_uri": "https://localhost:8080/"
        },
        "id": "IVj_KvtDYgu4",
        "outputId": "92ae94e7-64ad-4794-fa3e-734ea696ddd0"
      },
      "execution_count": 5,
      "outputs": [
        {
          "output_type": "stream",
          "name": "stdout",
          "text": [
            "False\n"
          ]
        }
      ]
    },
    {
      "cell_type": "code",
      "source": [
        "# there maybe some cases where we need to fine tune a network. In such case, we freeze parameters."
      ],
      "metadata": {
        "id": "5JD4_ZGwYzA1"
      },
      "execution_count": 6,
      "outputs": []
    }
  ]
}