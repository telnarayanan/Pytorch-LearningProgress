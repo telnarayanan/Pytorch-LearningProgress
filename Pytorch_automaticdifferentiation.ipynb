{
  "nbformat": 4,
  "nbformat_minor": 0,
  "metadata": {
    "colab": {
      "name": "Pytorch-automaticdifferentiation.ipynb",
      "provenance": [],
      "authorship_tag": "ABX9TyPsnnsaj6/fO7LsSsQHvd5P",
      "include_colab_link": true
    },
    "kernelspec": {
      "name": "python3",
      "display_name": "Python 3"
    },
    "language_info": {
      "name": "python"
    }
  },
  "cells": [
    {
      "cell_type": "markdown",
      "metadata": {
        "id": "view-in-github",
        "colab_type": "text"
      },
      "source": [
        "<a href=\"https://colab.research.google.com/github/telnarayanan/Pytorch-LearningProgress/blob/main/Pytorch_automaticdifferentiation.ipynb\" target=\"_parent\"><img src=\"https://colab.research.google.com/assets/colab-badge.svg\" alt=\"Open In Colab\"/></a>"
      ]
    },
    {
      "cell_type": "code",
      "execution_count": 8,
      "metadata": {
        "colab": {
          "base_uri": "https://localhost:8080/"
        },
        "id": "K46eUZHcV8Ml",
        "outputId": "04106a03-c075-46ca-dd23-f93539dc13d4"
      },
      "outputs": [
        {
          "output_type": "stream",
          "name": "stdout",
          "text": [
            "X :tensor([1., 1., 1., 1., 1.])\n",
            " y :tensor([0., 0., 0.]) \n",
            " w: tensor([[ 0.4598,  0.0748, -1.2382],\n",
            "        [-0.0845, -0.9562,  0.8154],\n",
            "        [ 1.5413, -0.0766,  0.0739],\n",
            "        [ 1.0466, -0.1966, -0.0780],\n",
            "        [ 0.6959, -1.0800, -1.6595]], requires_grad=True) \n",
            " b: tensor([-0.5412,  0.2142, -1.3356], requires_grad=True) \n",
            " z: tensor([ 3.1179, -2.0204, -3.4221], grad_fn=<AddBackward0>) \n",
            " loss: 1.1059341430664062\n"
          ]
        }
      ],
      "source": [
        "# torch.autograd\n",
        "\n",
        "import torch\n",
        "X = torch.ones(5)     #input tensor\n",
        "y = torch.zeros(3)    #expected output\n",
        "w = torch.randn(5, 3, requires_grad = True)\n",
        "b = torch.randn(3, requires_grad = True)\n",
        "z = torch.matmul(X, w) + b\n",
        "\n",
        "loss = torch.nn.functional.binary_cross_entropy_with_logits(z,y)\n",
        "\n",
        "print(f\"X :{X}\\n y :{y} \\n w: {w} \\n b: {b} \\n z: {z} \\n loss: {loss}\") "
      ]
    },
    {
      "cell_type": "code",
      "source": [
        "print(f\"Gradient function for z = {z.grad_fn}\")\n",
        "print(f\"Gradient function for loss = {loss.grad_fn}\")"
      ],
      "metadata": {
        "colab": {
          "base_uri": "https://localhost:8080/"
        },
        "id": "JwwWwPGlXJKk",
        "outputId": "2759836d-32d1-4e5d-d648-43bf14edff9e"
      },
      "execution_count": 9,
      "outputs": [
        {
          "output_type": "stream",
          "name": "stdout",
          "text": [
            "Gradient function for z = <AddBackward0 object at 0x7fa219518c10>\n",
            "Gradient function for loss = <BinaryCrossEntropyWithLogitsBackward0 object at 0x7fa219518350>\n"
          ]
        }
      ]
    },
    {
      "cell_type": "code",
      "source": [
        "loss.backward()\n",
        "print(w.grad)\n",
        "print(b.grad)"
      ],
      "metadata": {
        "colab": {
          "base_uri": "https://localhost:8080/"
        },
        "id": "3M7Bk-JEXYsK",
        "outputId": "abfc026b-e500-46f6-f419-3fa1cfa79ac1"
      },
      "execution_count": 10,
      "outputs": [
        {
          "output_type": "stream",
          "name": "stdout",
          "text": [
            "tensor([[0.3192, 0.0390, 0.0105],\n",
            "        [0.3192, 0.0390, 0.0105],\n",
            "        [0.3192, 0.0390, 0.0105],\n",
            "        [0.3192, 0.0390, 0.0105],\n",
            "        [0.3192, 0.0390, 0.0105]])\n",
            "tensor([0.3192, 0.0390, 0.0105])\n"
          ]
        }
      ]
    },
    {
      "cell_type": "code",
      "source": [
        "# disable gradient tracking\n",
        "# sometimes, the gradients' history need not be tracked in the case of a trained model, and we just are going to feed the data\n",
        "# i.e only forward computations. In such cases, we can stop tracking computations\n",
        "\n",
        "\n",
        "z = torch.matmul(X,w) + b\n",
        "print(z.requires_grad)\n",
        "\n",
        "with torch.no_grad():\n",
        "    z = torch.matmul(X,w) + b\n",
        "\n",
        "print(z.requires_grad)\n",
        "    "
      ],
      "metadata": {
        "colab": {
          "base_uri": "https://localhost:8080/"
        },
        "id": "yBgaxtiWXqIf",
        "outputId": "8e433488-f384-4de1-f5d3-4e3c11595e36"
      },
      "execution_count": 4,
      "outputs": [
        {
          "output_type": "stream",
          "name": "stdout",
          "text": [
            "True\n",
            "False\n"
          ]
        }
      ]
    },
    {
      "cell_type": "code",
      "source": [
        "z = torch.matmul(X,w)+b\n",
        "z_det = z.detach()\n",
        "print(z_det.requires_grad)"
      ],
      "metadata": {
        "colab": {
          "base_uri": "https://localhost:8080/"
        },
        "id": "IVj_KvtDYgu4",
        "outputId": "92ae94e7-64ad-4794-fa3e-734ea696ddd0"
      },
      "execution_count": 5,
      "outputs": [
        {
          "output_type": "stream",
          "name": "stdout",
          "text": [
            "False\n"
          ]
        }
      ]
    },
    {
      "cell_type": "code",
      "source": [
        "# there maybe some cases where we need to fine tune a network. In such case, we freeze parameters."
      ],
      "metadata": {
        "id": "5JD4_ZGwYzA1"
      },
      "execution_count": 6,
      "outputs": []
    },
    {
      "cell_type": "code",
      "source": [
        ""
      ],
      "metadata": {
        "id": "g19Ra9aFZJRL"
      },
      "execution_count": null,
      "outputs": []
    }
  ]
}